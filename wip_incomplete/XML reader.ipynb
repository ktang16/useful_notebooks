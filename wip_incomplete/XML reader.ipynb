{
 "cells": [
  {
   "cell_type": "markdown",
   "metadata": {},
   "source": [
    "# Script for reading XML"
   ]
  },
  {
   "cell_type": "code",
   "execution_count": 1,
   "metadata": {
    "ExecuteTime": {
     "end_time": "2020-08-11T04:44:09.058629Z",
     "start_time": "2020-08-11T04:44:08.914164Z"
    }
   },
   "outputs": [],
   "source": [
    "from bs4 import BeautifulSoup as bs"
   ]
  },
  {
   "cell_type": "code",
   "execution_count": 2,
   "metadata": {
    "ExecuteTime": {
     "end_time": "2020-08-11T04:44:09.063555Z",
     "start_time": "2020-08-11T04:44:09.060827Z"
    }
   },
   "outputs": [],
   "source": [
    "# Open xml file (make sure that encoding is correct)\n",
    "infile = open(\"201930569349300443_public.xml\",\"r\", encoding=\"utf-8\")"
   ]
  },
  {
   "cell_type": "code",
   "execution_count": 3,
   "metadata": {
    "ExecuteTime": {
     "end_time": "2020-08-11T04:44:09.115326Z",
     "start_time": "2020-08-11T04:44:09.066356Z"
    }
   },
   "outputs": [],
   "source": [
    "# Read contents and create soup\n",
    "contents = infile.read()\n",
    "soup = bs(contents,'lxml')"
   ]
  },
  {
   "cell_type": "code",
   "execution_count": 4,
   "metadata": {
    "ExecuteTime": {
     "end_time": "2020-08-11T04:44:09.122868Z",
     "start_time": "2020-08-11T04:44:09.117203Z"
    }
   },
   "outputs": [
    {
     "name": "stdout",
     "output_type": "stream",
     "text": [
      "[<totalreportablecompfromorgamt>2035621</totalreportablecompfromorgamt>]\n"
     ]
    }
   ],
   "source": [
    "# Search for tag within soup\n",
    "tag = soup.find_all(\"totalreportablecompfromorgamt\")\n",
    "print(tag)"
   ]
  },
  {
   "cell_type": "code",
   "execution_count": 5,
   "metadata": {
    "ExecuteTime": {
     "end_time": "2020-08-11T04:44:09.139099Z",
     "start_time": "2020-08-11T04:44:09.125769Z"
    }
   },
   "outputs": [
    {
     "data": {
      "text/plain": [
       "'2035621'"
      ]
     },
     "execution_count": 5,
     "metadata": {},
     "output_type": "execute_result"
    }
   ],
   "source": [
    "# Get text in between tag\n",
    "tag[0].get_text()"
   ]
  },
  {
   "cell_type": "code",
   "execution_count": 12,
   "metadata": {
    "ExecuteTime": {
     "end_time": "2020-08-11T04:51:44.884070Z",
     "start_time": "2020-08-11T04:51:44.877526Z"
    }
   },
   "outputs": [
    {
     "name": "stdout",
     "output_type": "stream",
     "text": [
      "[<othersalariesandwagesgrp>\n",
      "<totalamt>10960864</totalamt>\n",
      "<programservicesamt>7821169</programservicesamt>\n",
      "<managementandgeneralamt>3139695</managementandgeneralamt>\n",
      "</othersalariesandwagesgrp>]\n",
      "\n",
      "10960864\n",
      "7821169\n",
      "3139695\n",
      "\n"
     ]
    }
   ],
   "source": [
    "# Search for tag within soup\n",
    "tag = soup.find_all(\"othersalariesandwagesgrp\")\n",
    "print(tag)\n",
    "print(tag[0].get_text())"
   ]
  },
  {
   "cell_type": "code",
   "execution_count": null,
   "metadata": {},
   "outputs": [],
   "source": []
  }
 ],
 "metadata": {
  "kernelspec": {
   "display_name": "Python 3",
   "language": "python",
   "name": "python3"
  },
  "language_info": {
   "codemirror_mode": {
    "name": "ipython",
    "version": 3
   },
   "file_extension": ".py",
   "mimetype": "text/x-python",
   "name": "python",
   "nbconvert_exporter": "python",
   "pygments_lexer": "ipython3",
   "version": "3.7.7"
  },
  "toc": {
   "base_numbering": 1,
   "nav_menu": {},
   "number_sections": true,
   "sideBar": true,
   "skip_h1_title": false,
   "title_cell": "Table of Contents",
   "title_sidebar": "Contents",
   "toc_cell": false,
   "toc_position": {},
   "toc_section_display": true,
   "toc_window_display": false
  },
  "varInspector": {
   "cols": {
    "lenName": 16,
    "lenType": 16,
    "lenVar": 40
   },
   "kernels_config": {
    "python": {
     "delete_cmd_postfix": "",
     "delete_cmd_prefix": "del ",
     "library": "var_list.py",
     "varRefreshCmd": "print(var_dic_list())"
    },
    "r": {
     "delete_cmd_postfix": ") ",
     "delete_cmd_prefix": "rm(",
     "library": "var_list.r",
     "varRefreshCmd": "cat(var_dic_list()) "
    }
   },
   "types_to_exclude": [
    "module",
    "function",
    "builtin_function_or_method",
    "instance",
    "_Feature"
   ],
   "window_display": false
  }
 },
 "nbformat": 4,
 "nbformat_minor": 4
}
