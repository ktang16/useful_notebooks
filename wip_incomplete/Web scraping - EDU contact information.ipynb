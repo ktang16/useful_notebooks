{
 "cells": [
  {
   "cell_type": "markdown",
   "metadata": {},
   "source": [
    "# Summary\n",
    "This python script reads in a csv file downloaded from https://nces.ed.gov/collegenavigator/ and searches on Google for parking / transportation for those colleges and finds email contact info"
   ]
  },
  {
   "cell_type": "code",
   "execution_count": 1,
   "metadata": {
    "ExecuteTime": {
     "end_time": "2020-08-17T13:48:17.321574Z",
     "start_time": "2020-08-17T13:48:16.568489Z"
    }
   },
   "outputs": [],
   "source": [
    "# Import selenium to control web browser\n",
    "from selenium import webdriver\n",
    "from selenium.webdriver.common.by import By\n",
    "from selenium.webdriver.support.ui import WebDriverWait\n",
    "from selenium.webdriver.support import expected_conditions as EC\n",
    "from selenium.common.exceptions import ElementClickInterceptedException\n",
    "import re\n",
    "import pandas as pd\n",
    "import time"
   ]
  },
  {
   "cell_type": "markdown",
   "metadata": {},
   "source": [
    "## Read in CSV"
   ]
  },
  {
   "cell_type": "code",
   "execution_count": 2,
   "metadata": {
    "ExecuteTime": {
     "end_time": "2020-08-17T13:48:17.352705Z",
     "start_time": "2020-08-17T13:48:17.323706Z"
    }
   },
   "outputs": [
    {
     "data": {
      "text/html": [
       "<div>\n",
       "<style scoped>\n",
       "    .dataframe tbody tr th:only-of-type {\n",
       "        vertical-align: middle;\n",
       "    }\n",
       "\n",
       "    .dataframe tbody tr th {\n",
       "        vertical-align: top;\n",
       "    }\n",
       "\n",
       "    .dataframe thead th {\n",
       "        text-align: right;\n",
       "    }\n",
       "</style>\n",
       "<table border=\"1\" class=\"dataframe\">\n",
       "  <thead>\n",
       "    <tr style=\"text-align: right;\">\n",
       "      <th></th>\n",
       "      <th>Name</th>\n",
       "      <th>Address</th>\n",
       "      <th>Website</th>\n",
       "      <th>Type</th>\n",
       "      <th>Awards offered</th>\n",
       "      <th>Campus setting</th>\n",
       "      <th>Campus housing</th>\n",
       "      <th>Student population</th>\n",
       "      <th>Undergraduate students</th>\n",
       "      <th>Graduation Rate</th>\n",
       "      <th>Transfer-Out Rate</th>\n",
       "      <th>Cohort Year *</th>\n",
       "      <th>Net Price **</th>\n",
       "      <th>Largest Program</th>\n",
       "      <th>IPEDS ID</th>\n",
       "      <th>OPE ID</th>\n",
       "    </tr>\n",
       "  </thead>\n",
       "  <tbody>\n",
       "    <tr>\n",
       "      <th>0</th>\n",
       "      <td>Bard College</td>\n",
       "      <td>Annandale Road, Annandale-On-Hudson, New York ...</td>\n",
       "      <td>www.bard.edu</td>\n",
       "      <td>4-year, Private not-for-profit</td>\n",
       "      <td>Associate's degree|Bachelor's degree|Master's ...</td>\n",
       "      <td>Town: Fringe</td>\n",
       "      <td>Yes</td>\n",
       "      <td>2289</td>\n",
       "      <td>1957</td>\n",
       "      <td>77%</td>\n",
       "      <td>14%</td>\n",
       "      <td>Fall 2013</td>\n",
       "      <td>$27,652</td>\n",
       "      <td>-</td>\n",
       "      <td>189088</td>\n",
       "      <td>267100</td>\n",
       "    </tr>\n",
       "    <tr>\n",
       "      <th>1</th>\n",
       "      <td>Barnard College</td>\n",
       "      <td>3009 Broadway, New York, New York 10027-6598</td>\n",
       "      <td>www.barnard.edu</td>\n",
       "      <td>4-year, Private not-for-profit</td>\n",
       "      <td>Bachelor's degree</td>\n",
       "      <td>City: Large</td>\n",
       "      <td>Yes</td>\n",
       "      <td>2631</td>\n",
       "      <td>2631</td>\n",
       "      <td>92%</td>\n",
       "      <td>6%</td>\n",
       "      <td>Fall 2013</td>\n",
       "      <td>$26,649</td>\n",
       "      <td>-</td>\n",
       "      <td>189097</td>\n",
       "      <td>270800</td>\n",
       "    </tr>\n",
       "    <tr>\n",
       "      <th>2</th>\n",
       "      <td>CUNY LaGuardia Community College</td>\n",
       "      <td>31-10 Thomson Ave, Long Island City, New York ...</td>\n",
       "      <td>www.lagcc.cuny.edu</td>\n",
       "      <td>2-year, Public</td>\n",
       "      <td>Less than one year certificate|One but less th...</td>\n",
       "      <td>City: Large</td>\n",
       "      <td>No</td>\n",
       "      <td>18555</td>\n",
       "      <td>18555</td>\n",
       "      <td>28%</td>\n",
       "      <td>13%</td>\n",
       "      <td>Fall 2016</td>\n",
       "      <td>$7,340</td>\n",
       "      <td>-</td>\n",
       "      <td>190628</td>\n",
       "      <td>1005100</td>\n",
       "    </tr>\n",
       "    <tr>\n",
       "      <th>3</th>\n",
       "      <td>CUNY Queens College</td>\n",
       "      <td>65-30 Kissena Blvd, Queens, New York 11367</td>\n",
       "      <td>https://www.qc.cuny.edu</td>\n",
       "      <td>4-year, Public</td>\n",
       "      <td>Bachelor's degree|Postbaccalaureate certificat...</td>\n",
       "      <td>City: Large</td>\n",
       "      <td>Yes</td>\n",
       "      <td>19923</td>\n",
       "      <td>16866</td>\n",
       "      <td>56%</td>\n",
       "      <td>23%</td>\n",
       "      <td>Fall 2013</td>\n",
       "      <td>$4,471</td>\n",
       "      <td>-</td>\n",
       "      <td>190664</td>\n",
       "      <td>269000</td>\n",
       "    </tr>\n",
       "    <tr>\n",
       "      <th>4</th>\n",
       "      <td>Hamilton College</td>\n",
       "      <td>198 College Hill Rd, Clinton, New York 13323</td>\n",
       "      <td>www.hamilton.edu</td>\n",
       "      <td>4-year, Private not-for-profit</td>\n",
       "      <td>Bachelor's degree</td>\n",
       "      <td>Suburb: Midsize</td>\n",
       "      <td>Yes</td>\n",
       "      <td>2012</td>\n",
       "      <td>2012</td>\n",
       "      <td>93%</td>\n",
       "      <td>4%</td>\n",
       "      <td>Fall 2013</td>\n",
       "      <td>$29,117</td>\n",
       "      <td>-</td>\n",
       "      <td>191515</td>\n",
       "      <td>272800</td>\n",
       "    </tr>\n",
       "  </tbody>\n",
       "</table>\n",
       "</div>"
      ],
      "text/plain": [
       "                               Name  \\\n",
       "0                      Bard College   \n",
       "1                   Barnard College   \n",
       "2  CUNY LaGuardia Community College   \n",
       "3               CUNY Queens College   \n",
       "4                  Hamilton College   \n",
       "\n",
       "                                             Address                  Website  \\\n",
       "0  Annandale Road, Annandale-On-Hudson, New York ...             www.bard.edu   \n",
       "1       3009 Broadway, New York, New York 10027-6598          www.barnard.edu   \n",
       "2  31-10 Thomson Ave, Long Island City, New York ...       www.lagcc.cuny.edu   \n",
       "3         65-30 Kissena Blvd, Queens, New York 11367  https://www.qc.cuny.edu   \n",
       "4       198 College Hill Rd, Clinton, New York 13323         www.hamilton.edu   \n",
       "\n",
       "                             Type  \\\n",
       "0  4-year, Private not-for-profit   \n",
       "1  4-year, Private not-for-profit   \n",
       "2                  2-year, Public   \n",
       "3                  4-year, Public   \n",
       "4  4-year, Private not-for-profit   \n",
       "\n",
       "                                      Awards offered   Campus setting  \\\n",
       "0  Associate's degree|Bachelor's degree|Master's ...     Town: Fringe   \n",
       "1                                  Bachelor's degree      City: Large   \n",
       "2  Less than one year certificate|One but less th...      City: Large   \n",
       "3  Bachelor's degree|Postbaccalaureate certificat...      City: Large   \n",
       "4                                  Bachelor's degree  Suburb: Midsize   \n",
       "\n",
       "  Campus housing  Student population  Undergraduate students Graduation Rate  \\\n",
       "0            Yes                2289                    1957             77%   \n",
       "1            Yes                2631                    2631             92%   \n",
       "2             No               18555                   18555             28%   \n",
       "3            Yes               19923                   16866             56%   \n",
       "4            Yes                2012                    2012             93%   \n",
       "\n",
       "  Transfer-Out Rate Cohort Year * Net Price ** Largest Program  IPEDS ID  \\\n",
       "0               14%     Fall 2013     $27,652                -    189088   \n",
       "1                6%     Fall 2013     $26,649                -    189097   \n",
       "2               13%     Fall 2016      $7,340                -    190628   \n",
       "3               23%     Fall 2013      $4,471                -    190664   \n",
       "4                4%     Fall 2013     $29,117                -    191515   \n",
       "\n",
       "    OPE ID  \n",
       "0   267100  \n",
       "1   270800  \n",
       "2  1005100  \n",
       "3   269000  \n",
       "4   272800  "
      ]
     },
     "execution_count": 2,
     "metadata": {},
     "output_type": "execute_result"
    }
   ],
   "source": [
    "# Read in CSV containing college information\n",
    "colleges = pd.read_csv('sample_college_list.csv')\n",
    "colleges.head()"
   ]
  },
  {
   "cell_type": "code",
   "execution_count": 3,
   "metadata": {
    "ExecuteTime": {
     "end_time": "2020-08-17T13:48:17.393079Z",
     "start_time": "2020-08-17T13:48:17.354616Z"
    }
   },
   "outputs": [
    {
     "data": {
      "text/html": [
       "<div>\n",
       "<style scoped>\n",
       "    .dataframe tbody tr th:only-of-type {\n",
       "        vertical-align: middle;\n",
       "    }\n",
       "\n",
       "    .dataframe tbody tr th {\n",
       "        vertical-align: top;\n",
       "    }\n",
       "\n",
       "    .dataframe thead th {\n",
       "        text-align: right;\n",
       "    }\n",
       "</style>\n",
       "<table border=\"1\" class=\"dataframe\">\n",
       "  <thead>\n",
       "    <tr style=\"text-align: right;\">\n",
       "      <th></th>\n",
       "      <th>Name</th>\n",
       "      <th>Address</th>\n",
       "      <th>Website</th>\n",
       "      <th>Type</th>\n",
       "      <th>Awards offered</th>\n",
       "      <th>Campus setting</th>\n",
       "      <th>Campus housing</th>\n",
       "      <th>Student population</th>\n",
       "      <th>Undergraduate students</th>\n",
       "      <th>Graduation Rate</th>\n",
       "      <th>Transfer-Out Rate</th>\n",
       "      <th>Cohort Year *</th>\n",
       "      <th>Net Price **</th>\n",
       "      <th>Largest Program</th>\n",
       "      <th>IPEDS ID</th>\n",
       "      <th>OPE ID</th>\n",
       "      <th>google_search</th>\n",
       "    </tr>\n",
       "  </thead>\n",
       "  <tbody>\n",
       "    <tr>\n",
       "      <th>0</th>\n",
       "      <td>Bard College</td>\n",
       "      <td>Annandale Road, Annandale-On-Hudson, New York ...</td>\n",
       "      <td>www.bard.edu</td>\n",
       "      <td>4-year, Private not-for-profit</td>\n",
       "      <td>Associate's degree|Bachelor's degree|Master's ...</td>\n",
       "      <td>Town: Fringe</td>\n",
       "      <td>Yes</td>\n",
       "      <td>2289</td>\n",
       "      <td>1957</td>\n",
       "      <td>77%</td>\n",
       "      <td>14%</td>\n",
       "      <td>Fall 2013</td>\n",
       "      <td>$27,652</td>\n",
       "      <td>-</td>\n",
       "      <td>189088</td>\n",
       "      <td>267100</td>\n",
       "      <td>[parking OR transportation] Bard College</td>\n",
       "    </tr>\n",
       "    <tr>\n",
       "      <th>1</th>\n",
       "      <td>Barnard College</td>\n",
       "      <td>3009 Broadway, New York, New York 10027-6598</td>\n",
       "      <td>www.barnard.edu</td>\n",
       "      <td>4-year, Private not-for-profit</td>\n",
       "      <td>Bachelor's degree</td>\n",
       "      <td>City: Large</td>\n",
       "      <td>Yes</td>\n",
       "      <td>2631</td>\n",
       "      <td>2631</td>\n",
       "      <td>92%</td>\n",
       "      <td>6%</td>\n",
       "      <td>Fall 2013</td>\n",
       "      <td>$26,649</td>\n",
       "      <td>-</td>\n",
       "      <td>189097</td>\n",
       "      <td>270800</td>\n",
       "      <td>[parking OR transportation] Barnard College</td>\n",
       "    </tr>\n",
       "    <tr>\n",
       "      <th>2</th>\n",
       "      <td>CUNY LaGuardia Community College</td>\n",
       "      <td>31-10 Thomson Ave, Long Island City, New York ...</td>\n",
       "      <td>www.lagcc.cuny.edu</td>\n",
       "      <td>2-year, Public</td>\n",
       "      <td>Less than one year certificate|One but less th...</td>\n",
       "      <td>City: Large</td>\n",
       "      <td>No</td>\n",
       "      <td>18555</td>\n",
       "      <td>18555</td>\n",
       "      <td>28%</td>\n",
       "      <td>13%</td>\n",
       "      <td>Fall 2016</td>\n",
       "      <td>$7,340</td>\n",
       "      <td>-</td>\n",
       "      <td>190628</td>\n",
       "      <td>1005100</td>\n",
       "      <td>[parking OR transportation] CUNY LaGuardia Com...</td>\n",
       "    </tr>\n",
       "    <tr>\n",
       "      <th>3</th>\n",
       "      <td>CUNY Queens College</td>\n",
       "      <td>65-30 Kissena Blvd, Queens, New York 11367</td>\n",
       "      <td>https://www.qc.cuny.edu</td>\n",
       "      <td>4-year, Public</td>\n",
       "      <td>Bachelor's degree|Postbaccalaureate certificat...</td>\n",
       "      <td>City: Large</td>\n",
       "      <td>Yes</td>\n",
       "      <td>19923</td>\n",
       "      <td>16866</td>\n",
       "      <td>56%</td>\n",
       "      <td>23%</td>\n",
       "      <td>Fall 2013</td>\n",
       "      <td>$4,471</td>\n",
       "      <td>-</td>\n",
       "      <td>190664</td>\n",
       "      <td>269000</td>\n",
       "      <td>[parking OR transportation] CUNY Queens College</td>\n",
       "    </tr>\n",
       "    <tr>\n",
       "      <th>4</th>\n",
       "      <td>Hamilton College</td>\n",
       "      <td>198 College Hill Rd, Clinton, New York 13323</td>\n",
       "      <td>www.hamilton.edu</td>\n",
       "      <td>4-year, Private not-for-profit</td>\n",
       "      <td>Bachelor's degree</td>\n",
       "      <td>Suburb: Midsize</td>\n",
       "      <td>Yes</td>\n",
       "      <td>2012</td>\n",
       "      <td>2012</td>\n",
       "      <td>93%</td>\n",
       "      <td>4%</td>\n",
       "      <td>Fall 2013</td>\n",
       "      <td>$29,117</td>\n",
       "      <td>-</td>\n",
       "      <td>191515</td>\n",
       "      <td>272800</td>\n",
       "      <td>[parking OR transportation] Hamilton College</td>\n",
       "    </tr>\n",
       "  </tbody>\n",
       "</table>\n",
       "</div>"
      ],
      "text/plain": [
       "                               Name  \\\n",
       "0                      Bard College   \n",
       "1                   Barnard College   \n",
       "2  CUNY LaGuardia Community College   \n",
       "3               CUNY Queens College   \n",
       "4                  Hamilton College   \n",
       "\n",
       "                                             Address                  Website  \\\n",
       "0  Annandale Road, Annandale-On-Hudson, New York ...             www.bard.edu   \n",
       "1       3009 Broadway, New York, New York 10027-6598          www.barnard.edu   \n",
       "2  31-10 Thomson Ave, Long Island City, New York ...       www.lagcc.cuny.edu   \n",
       "3         65-30 Kissena Blvd, Queens, New York 11367  https://www.qc.cuny.edu   \n",
       "4       198 College Hill Rd, Clinton, New York 13323         www.hamilton.edu   \n",
       "\n",
       "                             Type  \\\n",
       "0  4-year, Private not-for-profit   \n",
       "1  4-year, Private not-for-profit   \n",
       "2                  2-year, Public   \n",
       "3                  4-year, Public   \n",
       "4  4-year, Private not-for-profit   \n",
       "\n",
       "                                      Awards offered   Campus setting  \\\n",
       "0  Associate's degree|Bachelor's degree|Master's ...     Town: Fringe   \n",
       "1                                  Bachelor's degree      City: Large   \n",
       "2  Less than one year certificate|One but less th...      City: Large   \n",
       "3  Bachelor's degree|Postbaccalaureate certificat...      City: Large   \n",
       "4                                  Bachelor's degree  Suburb: Midsize   \n",
       "\n",
       "  Campus housing  Student population  Undergraduate students Graduation Rate  \\\n",
       "0            Yes                2289                    1957             77%   \n",
       "1            Yes                2631                    2631             92%   \n",
       "2             No               18555                   18555             28%   \n",
       "3            Yes               19923                   16866             56%   \n",
       "4            Yes                2012                    2012             93%   \n",
       "\n",
       "  Transfer-Out Rate Cohort Year * Net Price ** Largest Program  IPEDS ID  \\\n",
       "0               14%     Fall 2013     $27,652                -    189088   \n",
       "1                6%     Fall 2013     $26,649                -    189097   \n",
       "2               13%     Fall 2016      $7,340                -    190628   \n",
       "3               23%     Fall 2013      $4,471                -    190664   \n",
       "4                4%     Fall 2013     $29,117                -    191515   \n",
       "\n",
       "    OPE ID                                      google_search  \n",
       "0   267100           [parking OR transportation] Bard College  \n",
       "1   270800        [parking OR transportation] Barnard College  \n",
       "2  1005100  [parking OR transportation] CUNY LaGuardia Com...  \n",
       "3   269000    [parking OR transportation] CUNY Queens College  \n",
       "4   272800       [parking OR transportation] Hamilton College  "
      ]
     },
     "execution_count": 3,
     "metadata": {},
     "output_type": "execute_result"
    }
   ],
   "source": [
    "# Define the google search that needs to be conducted\n",
    "colleges['google_search'] = '[parking OR transportation] ' + colleges['Name']\n",
    "colleges.head()"
   ]
  },
  {
   "cell_type": "code",
   "execution_count": 4,
   "metadata": {
    "ExecuteTime": {
     "end_time": "2020-08-17T13:48:19.451933Z",
     "start_time": "2020-08-17T13:48:17.395576Z"
    }
   },
   "outputs": [],
   "source": [
    "# Open up a new chrome browser\n",
    "driver = webdriver.Chrome(executable_path='/Users/ktang/Downloads/chromedriver')"
   ]
  },
  {
   "cell_type": "code",
   "execution_count": 5,
   "metadata": {
    "ExecuteTime": {
     "end_time": "2020-08-17T13:48:19.459310Z",
     "start_time": "2020-08-17T13:48:19.454986Z"
    }
   },
   "outputs": [],
   "source": [
    "## Define constants\n",
    "\n",
    "# Maximum wait time before time out error\n",
    "WAIT_TIME = 10"
   ]
  },
  {
   "cell_type": "code",
   "execution_count": 6,
   "metadata": {
    "ExecuteTime": {
     "end_time": "2020-08-17T13:48:19.469624Z",
     "start_time": "2020-08-17T13:48:19.461989Z"
    }
   },
   "outputs": [],
   "source": [
    "def get_clickable_links(results):\n",
    "    # Check which of the links are actually clickable\n",
    "    clickable_list = []\n",
    "    for index, result in enumerate(results):\n",
    "        if result.is_displayed() and result.is_enabled():\n",
    "            clickable_list.append(index)\n",
    "#     print('\\t{} clickable links found on Google'.format(len(clickable_list)))\n",
    "    return clickable_list"
   ]
  },
  {
   "cell_type": "code",
   "execution_count": 7,
   "metadata": {
    "ExecuteTime": {
     "end_time": "2020-08-17T13:48:19.484849Z",
     "start_time": "2020-08-17T13:48:19.474990Z"
    }
   },
   "outputs": [],
   "source": [
    "def click_thru_links(clickable_list, results):\n",
    "    list_length = len(clickable_list)\n",
    "    # Click through each of the links\n",
    "    for i in range(list_length):\n",
    "        link = clickable_list[i]\n",
    "        # Check to make sure that we don't go beyond the size of results\n",
    "        if link < len(results):\n",
    "            print('\\tSearching {} link'.format(i + 1))\n",
    "            results[link].click()\n",
    "            print(driver.current_url)\n",
    "\n",
    "            # Make sure website loads\n",
    "#             element = WebDriverWait(driver, WAIT_TIME).until(\n",
    "#                 EC.presence_of_element_located(\n",
    "#                     (By.CSS_SELECTOR, 'html'))\n",
    "#             )\n",
    "\n",
    "            # Go back after clicking the link\n",
    "            driver.back()\n",
    "\n",
    "            # Make sure Google search loads\n",
    "            element = WebDriverWait(driver, WAIT_TIME).until(\n",
    "                EC.presence_of_element_located(\n",
    "                    (By.XPATH, '//div[@class=\"r\"]/a/h3'))\n",
    "            )\n",
    "\n",
    "            # Refresh the results page because it is not static\n",
    "            results = driver.find_elements_by_xpath('//div[@class=\"r\"]/a/h3')\n",
    "            clickable_list = get_clickable_links(results)"
   ]
  },
  {
   "cell_type": "code",
   "execution_count": 8,
   "metadata": {
    "ExecuteTime": {
     "end_time": "2020-08-17T13:48:19.496570Z",
     "start_time": "2020-08-17T13:48:19.489646Z"
    }
   },
   "outputs": [],
   "source": [
    "def search_google(colleges, driver):\n",
    "    # Iterate through all colleges\n",
    "    for index, row in colleges.iterrows():\n",
    "        print(\n",
    "            'Searching on Google for parking / transportation email for {}'.format(row['Name']))\n",
    "        # Search Google\n",
    "        driver.get('https://www.google.com/search?q=' + row['google_search'])\n",
    "        # Make sure Google search loads\n",
    "        element = WebDriverWait(driver, WAIT_TIME).until(\n",
    "            EC.presence_of_element_located(\n",
    "                (By.XPATH, '//div[@class=\"r\"]/a/h3'))\n",
    "        )\n",
    "        # Get all the Google search results\n",
    "        results = driver.find_elements_by_xpath('//div[@class=\"r\"]/a/h3')\n",
    "        print('\\t{} potential links to click'.format(len(results)))\n",
    "\n",
    "        # Check which of the links are actually clickable\n",
    "        clickable_list = get_clickable_links(results)\n",
    "        click_thru_links(clickable_list, results)"
   ]
  },
  {
   "cell_type": "code",
   "execution_count": 9,
   "metadata": {
    "ExecuteTime": {
     "end_time": "2020-08-17T13:48:54.525844Z",
     "start_time": "2020-08-17T13:48:19.507190Z"
    }
   },
   "outputs": [
    {
     "name": "stdout",
     "output_type": "stream",
     "text": [
      "Searching on Google for parking / transportation email for Bard College\n",
      "\t10 potential links to click\n",
      "\tSearching 1 link\n",
      "https://blogs.bard.edu/transportation/\n",
      "\tSearching 2 link\n",
      "https://blogs.bard.edu/transportation/?page_id=5\n",
      "\tSearching 3 link\n",
      "https://www.bard.edu/dosa/handbook/index.php?aid=10779&sid=669112\n",
      "\tSearching 4 link\n",
      "https://www.bard.edu/security/vehicles/\n",
      "\tSearching 5 link\n",
      "https://lli.bard.edu/lli-programs/current-members/parking-on-bard-campus/\n",
      "\tSearching 6 link\n",
      "https://blogs.bard.edu/transportation/?page_id=6\n",
      "\tSearching 7 link\n",
      "https://blogs.bard.edu/transportation/?page_id=73\n",
      "\tSearching 8 link\n",
      "https://blogs.bard.edu/transportation/?page_id=8\n",
      "\tSearching 9 link\n",
      "https://blogs.bard.edu/transportation/?page_id=78\n",
      "\tSearching 10 link\n",
      "https://www.bard.edu/dosa/handbook/index.php?aid=1292&sid=716\n",
      "Searching on Google for parking / transportation email for Barnard College\n",
      "\t10 potential links to click\n",
      "\tSearching 1 link\n",
      "https://barnard.edu/parking\n",
      "\tSearching 2 link\n",
      "https://barnard.edu/admissions/parking\n",
      "\tSearching 3 link\n"
     ]
    },
    {
     "ename": "ElementClickInterceptedException",
     "evalue": "Message: element click intercepted: Element <h3 class=\"LC20lb DKV0Md\">...</h3> is not clickable at point (329, 635). Other element would receive the click: <div class=\"TbwUpd NJjxre\">...</div>\n  (Session info: chrome=84.0.4147.125)\n",
     "output_type": "error",
     "traceback": [
      "\u001b[0;31m---------------------------------------------------------------------------\u001b[0m",
      "\u001b[0;31mElementClickInterceptedException\u001b[0m          Traceback (most recent call last)",
      "\u001b[0;32m<ipython-input-9-76d045a80c3a>\u001b[0m in \u001b[0;36m<module>\u001b[0;34m\u001b[0m\n\u001b[0;32m----> 1\u001b[0;31m \u001b[0msearch_google\u001b[0m\u001b[0;34m(\u001b[0m\u001b[0mcolleges\u001b[0m\u001b[0;34m,\u001b[0m \u001b[0mdriver\u001b[0m\u001b[0;34m)\u001b[0m\u001b[0;34m\u001b[0m\u001b[0;34m\u001b[0m\u001b[0m\n\u001b[0m",
      "\u001b[0;32m<ipython-input-8-d43acbb13b7d>\u001b[0m in \u001b[0;36msearch_google\u001b[0;34m(colleges, driver)\u001b[0m\n\u001b[1;32m     17\u001b[0m         \u001b[0;31m# Check which of the links are actually clickable\u001b[0m\u001b[0;34m\u001b[0m\u001b[0;34m\u001b[0m\u001b[0;34m\u001b[0m\u001b[0m\n\u001b[1;32m     18\u001b[0m         \u001b[0mclickable_list\u001b[0m \u001b[0;34m=\u001b[0m \u001b[0mget_clickable_links\u001b[0m\u001b[0;34m(\u001b[0m\u001b[0mresults\u001b[0m\u001b[0;34m)\u001b[0m\u001b[0;34m\u001b[0m\u001b[0;34m\u001b[0m\u001b[0m\n\u001b[0;32m---> 19\u001b[0;31m         \u001b[0mclick_thru_links\u001b[0m\u001b[0;34m(\u001b[0m\u001b[0mclickable_list\u001b[0m\u001b[0;34m,\u001b[0m \u001b[0mresults\u001b[0m\u001b[0;34m)\u001b[0m\u001b[0;34m\u001b[0m\u001b[0;34m\u001b[0m\u001b[0m\n\u001b[0m",
      "\u001b[0;32m<ipython-input-7-136ee80f0db6>\u001b[0m in \u001b[0;36mclick_thru_links\u001b[0;34m(clickable_list, results)\u001b[0m\n\u001b[1;32m      7\u001b[0m         \u001b[0;32mif\u001b[0m \u001b[0mlink\u001b[0m \u001b[0;34m<\u001b[0m \u001b[0mlen\u001b[0m\u001b[0;34m(\u001b[0m\u001b[0mresults\u001b[0m\u001b[0;34m)\u001b[0m\u001b[0;34m:\u001b[0m\u001b[0;34m\u001b[0m\u001b[0;34m\u001b[0m\u001b[0m\n\u001b[1;32m      8\u001b[0m             \u001b[0mprint\u001b[0m\u001b[0;34m(\u001b[0m\u001b[0;34m'\\tSearching {} link'\u001b[0m\u001b[0;34m.\u001b[0m\u001b[0mformat\u001b[0m\u001b[0;34m(\u001b[0m\u001b[0mi\u001b[0m \u001b[0;34m+\u001b[0m \u001b[0;36m1\u001b[0m\u001b[0;34m)\u001b[0m\u001b[0;34m)\u001b[0m\u001b[0;34m\u001b[0m\u001b[0;34m\u001b[0m\u001b[0m\n\u001b[0;32m----> 9\u001b[0;31m             \u001b[0mresults\u001b[0m\u001b[0;34m[\u001b[0m\u001b[0mlink\u001b[0m\u001b[0;34m]\u001b[0m\u001b[0;34m.\u001b[0m\u001b[0mclick\u001b[0m\u001b[0;34m(\u001b[0m\u001b[0;34m)\u001b[0m\u001b[0;34m\u001b[0m\u001b[0;34m\u001b[0m\u001b[0m\n\u001b[0m\u001b[1;32m     10\u001b[0m             \u001b[0mprint\u001b[0m\u001b[0;34m(\u001b[0m\u001b[0mdriver\u001b[0m\u001b[0;34m.\u001b[0m\u001b[0mcurrent_url\u001b[0m\u001b[0;34m)\u001b[0m\u001b[0;34m\u001b[0m\u001b[0;34m\u001b[0m\u001b[0m\n\u001b[1;32m     11\u001b[0m \u001b[0;34m\u001b[0m\u001b[0m\n",
      "\u001b[0;32m/opt/anaconda3/lib/python3.7/site-packages/selenium/webdriver/remote/webelement.py\u001b[0m in \u001b[0;36mclick\u001b[0;34m(self)\u001b[0m\n\u001b[1;32m     78\u001b[0m     \u001b[0;32mdef\u001b[0m \u001b[0mclick\u001b[0m\u001b[0;34m(\u001b[0m\u001b[0mself\u001b[0m\u001b[0;34m)\u001b[0m\u001b[0;34m:\u001b[0m\u001b[0;34m\u001b[0m\u001b[0;34m\u001b[0m\u001b[0m\n\u001b[1;32m     79\u001b[0m         \u001b[0;34m\"\"\"Clicks the element.\"\"\"\u001b[0m\u001b[0;34m\u001b[0m\u001b[0;34m\u001b[0m\u001b[0m\n\u001b[0;32m---> 80\u001b[0;31m         \u001b[0mself\u001b[0m\u001b[0;34m.\u001b[0m\u001b[0m_execute\u001b[0m\u001b[0;34m(\u001b[0m\u001b[0mCommand\u001b[0m\u001b[0;34m.\u001b[0m\u001b[0mCLICK_ELEMENT\u001b[0m\u001b[0;34m)\u001b[0m\u001b[0;34m\u001b[0m\u001b[0;34m\u001b[0m\u001b[0m\n\u001b[0m\u001b[1;32m     81\u001b[0m \u001b[0;34m\u001b[0m\u001b[0m\n\u001b[1;32m     82\u001b[0m     \u001b[0;32mdef\u001b[0m \u001b[0msubmit\u001b[0m\u001b[0;34m(\u001b[0m\u001b[0mself\u001b[0m\u001b[0;34m)\u001b[0m\u001b[0;34m:\u001b[0m\u001b[0;34m\u001b[0m\u001b[0;34m\u001b[0m\u001b[0m\n",
      "\u001b[0;32m/opt/anaconda3/lib/python3.7/site-packages/selenium/webdriver/remote/webelement.py\u001b[0m in \u001b[0;36m_execute\u001b[0;34m(self, command, params)\u001b[0m\n\u001b[1;32m    631\u001b[0m             \u001b[0mparams\u001b[0m \u001b[0;34m=\u001b[0m \u001b[0;34m{\u001b[0m\u001b[0;34m}\u001b[0m\u001b[0;34m\u001b[0m\u001b[0;34m\u001b[0m\u001b[0m\n\u001b[1;32m    632\u001b[0m         \u001b[0mparams\u001b[0m\u001b[0;34m[\u001b[0m\u001b[0;34m'id'\u001b[0m\u001b[0;34m]\u001b[0m \u001b[0;34m=\u001b[0m \u001b[0mself\u001b[0m\u001b[0;34m.\u001b[0m\u001b[0m_id\u001b[0m\u001b[0;34m\u001b[0m\u001b[0;34m\u001b[0m\u001b[0m\n\u001b[0;32m--> 633\u001b[0;31m         \u001b[0;32mreturn\u001b[0m \u001b[0mself\u001b[0m\u001b[0;34m.\u001b[0m\u001b[0m_parent\u001b[0m\u001b[0;34m.\u001b[0m\u001b[0mexecute\u001b[0m\u001b[0;34m(\u001b[0m\u001b[0mcommand\u001b[0m\u001b[0;34m,\u001b[0m \u001b[0mparams\u001b[0m\u001b[0;34m)\u001b[0m\u001b[0;34m\u001b[0m\u001b[0;34m\u001b[0m\u001b[0m\n\u001b[0m\u001b[1;32m    634\u001b[0m \u001b[0;34m\u001b[0m\u001b[0m\n\u001b[1;32m    635\u001b[0m     \u001b[0;32mdef\u001b[0m \u001b[0mfind_element\u001b[0m\u001b[0;34m(\u001b[0m\u001b[0mself\u001b[0m\u001b[0;34m,\u001b[0m \u001b[0mby\u001b[0m\u001b[0;34m=\u001b[0m\u001b[0mBy\u001b[0m\u001b[0;34m.\u001b[0m\u001b[0mID\u001b[0m\u001b[0;34m,\u001b[0m \u001b[0mvalue\u001b[0m\u001b[0;34m=\u001b[0m\u001b[0;32mNone\u001b[0m\u001b[0;34m)\u001b[0m\u001b[0;34m:\u001b[0m\u001b[0;34m\u001b[0m\u001b[0;34m\u001b[0m\u001b[0m\n",
      "\u001b[0;32m/opt/anaconda3/lib/python3.7/site-packages/selenium/webdriver/remote/webdriver.py\u001b[0m in \u001b[0;36mexecute\u001b[0;34m(self, driver_command, params)\u001b[0m\n\u001b[1;32m    319\u001b[0m         \u001b[0mresponse\u001b[0m \u001b[0;34m=\u001b[0m \u001b[0mself\u001b[0m\u001b[0;34m.\u001b[0m\u001b[0mcommand_executor\u001b[0m\u001b[0;34m.\u001b[0m\u001b[0mexecute\u001b[0m\u001b[0;34m(\u001b[0m\u001b[0mdriver_command\u001b[0m\u001b[0;34m,\u001b[0m \u001b[0mparams\u001b[0m\u001b[0;34m)\u001b[0m\u001b[0;34m\u001b[0m\u001b[0;34m\u001b[0m\u001b[0m\n\u001b[1;32m    320\u001b[0m         \u001b[0;32mif\u001b[0m \u001b[0mresponse\u001b[0m\u001b[0;34m:\u001b[0m\u001b[0;34m\u001b[0m\u001b[0;34m\u001b[0m\u001b[0m\n\u001b[0;32m--> 321\u001b[0;31m             \u001b[0mself\u001b[0m\u001b[0;34m.\u001b[0m\u001b[0merror_handler\u001b[0m\u001b[0;34m.\u001b[0m\u001b[0mcheck_response\u001b[0m\u001b[0;34m(\u001b[0m\u001b[0mresponse\u001b[0m\u001b[0;34m)\u001b[0m\u001b[0;34m\u001b[0m\u001b[0;34m\u001b[0m\u001b[0m\n\u001b[0m\u001b[1;32m    322\u001b[0m             response['value'] = self._unwrap_value(\n\u001b[1;32m    323\u001b[0m                 response.get('value', None))\n",
      "\u001b[0;32m/opt/anaconda3/lib/python3.7/site-packages/selenium/webdriver/remote/errorhandler.py\u001b[0m in \u001b[0;36mcheck_response\u001b[0;34m(self, response)\u001b[0m\n\u001b[1;32m    240\u001b[0m                 \u001b[0malert_text\u001b[0m \u001b[0;34m=\u001b[0m \u001b[0mvalue\u001b[0m\u001b[0;34m[\u001b[0m\u001b[0;34m'alert'\u001b[0m\u001b[0;34m]\u001b[0m\u001b[0;34m.\u001b[0m\u001b[0mget\u001b[0m\u001b[0;34m(\u001b[0m\u001b[0;34m'text'\u001b[0m\u001b[0;34m)\u001b[0m\u001b[0;34m\u001b[0m\u001b[0;34m\u001b[0m\u001b[0m\n\u001b[1;32m    241\u001b[0m             \u001b[0;32mraise\u001b[0m \u001b[0mexception_class\u001b[0m\u001b[0;34m(\u001b[0m\u001b[0mmessage\u001b[0m\u001b[0;34m,\u001b[0m \u001b[0mscreen\u001b[0m\u001b[0;34m,\u001b[0m \u001b[0mstacktrace\u001b[0m\u001b[0;34m,\u001b[0m \u001b[0malert_text\u001b[0m\u001b[0;34m)\u001b[0m\u001b[0;34m\u001b[0m\u001b[0;34m\u001b[0m\u001b[0m\n\u001b[0;32m--> 242\u001b[0;31m         \u001b[0;32mraise\u001b[0m \u001b[0mexception_class\u001b[0m\u001b[0;34m(\u001b[0m\u001b[0mmessage\u001b[0m\u001b[0;34m,\u001b[0m \u001b[0mscreen\u001b[0m\u001b[0;34m,\u001b[0m \u001b[0mstacktrace\u001b[0m\u001b[0;34m)\u001b[0m\u001b[0;34m\u001b[0m\u001b[0;34m\u001b[0m\u001b[0m\n\u001b[0m\u001b[1;32m    243\u001b[0m \u001b[0;34m\u001b[0m\u001b[0m\n\u001b[1;32m    244\u001b[0m     \u001b[0;32mdef\u001b[0m \u001b[0m_value_or_default\u001b[0m\u001b[0;34m(\u001b[0m\u001b[0mself\u001b[0m\u001b[0;34m,\u001b[0m \u001b[0mobj\u001b[0m\u001b[0;34m,\u001b[0m \u001b[0mkey\u001b[0m\u001b[0;34m,\u001b[0m \u001b[0mdefault\u001b[0m\u001b[0;34m)\u001b[0m\u001b[0;34m:\u001b[0m\u001b[0;34m\u001b[0m\u001b[0;34m\u001b[0m\u001b[0m\n",
      "\u001b[0;31mElementClickInterceptedException\u001b[0m: Message: element click intercepted: Element <h3 class=\"LC20lb DKV0Md\">...</h3> is not clickable at point (329, 635). Other element would receive the click: <div class=\"TbwUpd NJjxre\">...</div>\n  (Session info: chrome=84.0.4147.125)\n"
     ]
    }
   ],
   "source": [
    "search_google(colleges, driver)"
   ]
  },
  {
   "cell_type": "code",
   "execution_count": null,
   "metadata": {
    "ExecuteTime": {
     "end_time": "2020-08-17T13:48:54.530971Z",
     "start_time": "2020-08-17T13:48:16.572Z"
    }
   },
   "outputs": [],
   "source": [
    "# Close browser\n",
    "driver.quit()"
   ]
  },
  {
   "cell_type": "markdown",
   "metadata": {},
   "source": [
    "# Read in text from selenium"
   ]
  },
  {
   "cell_type": "code",
   "execution_count": null,
   "metadata": {
    "ExecuteTime": {
     "end_time": "2020-08-17T13:48:54.532372Z",
     "start_time": "2020-08-17T13:48:16.574Z"
    }
   },
   "outputs": [],
   "source": [
    "driver.get('http://bamaparking.ua.edu/')\n",
    "elem = driver.find_element_by_css_selector('html')"
   ]
  },
  {
   "cell_type": "code",
   "execution_count": null,
   "metadata": {
    "ExecuteTime": {
     "end_time": "2020-08-17T13:48:54.533843Z",
     "start_time": "2020-08-17T13:48:16.577Z"
    }
   },
   "outputs": [],
   "source": [
    "elem.text"
   ]
  },
  {
   "cell_type": "code",
   "execution_count": null,
   "metadata": {
    "ExecuteTime": {
     "end_time": "2020-08-17T13:48:54.535562Z",
     "start_time": "2020-08-17T13:48:16.580Z"
    }
   },
   "outputs": [],
   "source": [
    "emails = set(re.findall(r'[\\w\\.-]+@[\\w\\.-]+', elem.text, re.I))\n",
    "emails"
   ]
  },
  {
   "cell_type": "code",
   "execution_count": null,
   "metadata": {
    "ExecuteTime": {
     "end_time": "2020-08-17T13:48:54.537095Z",
     "start_time": "2020-08-17T13:48:16.582Z"
    }
   },
   "outputs": [],
   "source": [
    "# Create a function to find emails in the text of a website\n",
    "def find_emails_website(driver, email_regex):\n",
    "    # Read the entire wesite\n",
    "    elem = driver.find_element_by_css_selector('html')\n",
    "    # Create a set of all emails that were found based on the regex (use re.I to ignore case)\n",
    "    emails = set(re.findall(email_regex, elem.text, re.I))\n",
    "    return emails"
   ]
  }
 ],
 "metadata": {
  "kernelspec": {
   "display_name": "Python 3",
   "language": "python",
   "name": "python3"
  },
  "language_info": {
   "codemirror_mode": {
    "name": "ipython",
    "version": 3
   },
   "file_extension": ".py",
   "mimetype": "text/x-python",
   "name": "python",
   "nbconvert_exporter": "python",
   "pygments_lexer": "ipython3",
   "version": "3.7.7"
  },
  "toc": {
   "base_numbering": 1,
   "nav_menu": {},
   "number_sections": true,
   "sideBar": true,
   "skip_h1_title": false,
   "title_cell": "Table of Contents",
   "title_sidebar": "Contents",
   "toc_cell": false,
   "toc_position": {},
   "toc_section_display": true,
   "toc_window_display": false
  },
  "varInspector": {
   "cols": {
    "lenName": 16,
    "lenType": 16,
    "lenVar": 40
   },
   "kernels_config": {
    "python": {
     "delete_cmd_postfix": "",
     "delete_cmd_prefix": "del ",
     "library": "var_list.py",
     "varRefreshCmd": "print(var_dic_list())"
    },
    "r": {
     "delete_cmd_postfix": ") ",
     "delete_cmd_prefix": "rm(",
     "library": "var_list.r",
     "varRefreshCmd": "cat(var_dic_list()) "
    }
   },
   "types_to_exclude": [
    "module",
    "function",
    "builtin_function_or_method",
    "instance",
    "_Feature"
   ],
   "window_display": false
  }
 },
 "nbformat": 4,
 "nbformat_minor": 4
}
